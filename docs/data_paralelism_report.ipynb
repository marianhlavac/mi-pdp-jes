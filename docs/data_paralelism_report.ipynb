{
 "cells": [
  {
   "cell_type": "code",
   "execution_count": 7,
   "metadata": {},
   "outputs": [],
   "source": [
    "import pandas as pd\n",
    "import numpy as np\n",
    "import matplotlib.pyplot as plt\n",
    "import matplotlib\n",
    "\n",
    "# Konfigurace vizualizace dat\n",
    "%matplotlib inline\n",
    "matplotlib.rcParams['figure.figsize'] = (15.0, 5.0)\n",
    "matplotlib.style.use('ggplot')\n",
    "pd.options.display.max_rows = 15"
   ]
  },
  {
   "cell_type": "code",
   "execution_count": 8,
   "metadata": {},
   "outputs": [],
   "source": [
    "# Načtení spočtených dat\n",
    "\n",
    "cmp01 = pd.read_csv('./comparison-01.csv')"
   ]
  },
  {
   "cell_type": "markdown",
   "metadata": {},
   "source": [
    "# Local\n",
    "\n",
    "3,4 GHz Intel Core i7, 4-core, 8 threads (hyper-thr)"
   ]
  },
  {
   "cell_type": "code",
   "execution_count": 9,
   "metadata": {},
   "outputs": [
    {
     "data": {
      "text/html": [
       "<div>\n",
       "<style>\n",
       "    .dataframe thead tr:only-child th {\n",
       "        text-align: right;\n",
       "    }\n",
       "\n",
       "    .dataframe thead th {\n",
       "        text-align: left;\n",
       "    }\n",
       "\n",
       "    .dataframe tbody tr th {\n",
       "        vertical-align: top;\n",
       "    }\n",
       "</style>\n",
       "<table border=\"1\" class=\"dataframe\">\n",
       "  <thead>\n",
       "    <tr style=\"text-align: right;\">\n",
       "      <th></th>\n",
       "      <th>filename</th>\n",
       "      <th>data_parallel</th>\n",
       "      <th>task_parallel</th>\n",
       "      <th>sequential</th>\n",
       "    </tr>\n",
       "  </thead>\n",
       "  <tbody>\n",
       "    <tr>\n",
       "      <th>0</th>\n",
       "      <td>../test/fixtures/kun01.txt</td>\n",
       "      <td>0.003645</td>\n",
       "      <td>0.010614</td>\n",
       "      <td>0.028218</td>\n",
       "    </tr>\n",
       "    <tr>\n",
       "      <th>1</th>\n",
       "      <td>../test/fixtures/kun02.txt</td>\n",
       "      <td>0.003832</td>\n",
       "      <td>0.006578</td>\n",
       "      <td>0.017044</td>\n",
       "    </tr>\n",
       "    <tr>\n",
       "      <th>2</th>\n",
       "      <td>../test/fixtures/kun03.txt</td>\n",
       "      <td>0.135497</td>\n",
       "      <td>0.112243</td>\n",
       "      <td>2.601100</td>\n",
       "    </tr>\n",
       "    <tr>\n",
       "      <th>3</th>\n",
       "      <td>../test/fixtures/kun04.txt</td>\n",
       "      <td>0.012469</td>\n",
       "      <td>0.006759</td>\n",
       "      <td>0.052444</td>\n",
       "    </tr>\n",
       "    <tr>\n",
       "      <th>4</th>\n",
       "      <td>../test/fixtures/kun05.txt</td>\n",
       "      <td>0.046045</td>\n",
       "      <td>0.107471</td>\n",
       "      <td>0.052078</td>\n",
       "    </tr>\n",
       "    <tr>\n",
       "      <th>5</th>\n",
       "      <td>../test/fixtures/kun06.txt</td>\n",
       "      <td>0.003820</td>\n",
       "      <td>0.002675</td>\n",
       "      <td>0.031005</td>\n",
       "    </tr>\n",
       "    <tr>\n",
       "      <th>6</th>\n",
       "      <td>../test/fixtures/kun07.txt</td>\n",
       "      <td>0.004820</td>\n",
       "      <td>0.010776</td>\n",
       "      <td>0.019723</td>\n",
       "    </tr>\n",
       "    <tr>\n",
       "      <th>7</th>\n",
       "      <td>../test/fixtures/kun08.txt</td>\n",
       "      <td>0.099850</td>\n",
       "      <td>0.116484</td>\n",
       "      <td>2.742440</td>\n",
       "    </tr>\n",
       "    <tr>\n",
       "      <th>8</th>\n",
       "      <td>../test/fixtures/kun09.txt</td>\n",
       "      <td>0.064895</td>\n",
       "      <td>0.074875</td>\n",
       "      <td>0.379592</td>\n",
       "    </tr>\n",
       "    <tr>\n",
       "      <th>9</th>\n",
       "      <td>../test/fixtures/kun10.txt</td>\n",
       "      <td>2.103640</td>\n",
       "      <td>4.702110</td>\n",
       "      <td>14.022900</td>\n",
       "    </tr>\n",
       "    <tr>\n",
       "      <th>10</th>\n",
       "      <td>../test/fixtures/kun11.txt</td>\n",
       "      <td>40.914500</td>\n",
       "      <td>160.478000</td>\n",
       "      <td>124.001000</td>\n",
       "    </tr>\n",
       "    <tr>\n",
       "      <th>11</th>\n",
       "      <td>../test/fixtures/kun12.txt</td>\n",
       "      <td>2.147550</td>\n",
       "      <td>7.347330</td>\n",
       "      <td>20.010500</td>\n",
       "    </tr>\n",
       "  </tbody>\n",
       "</table>\n",
       "</div>"
      ],
      "text/plain": [
       "                      filename  data_parallel  task_parallel  sequential\n",
       "0   ../test/fixtures/kun01.txt       0.003645       0.010614    0.028218\n",
       "1   ../test/fixtures/kun02.txt       0.003832       0.006578    0.017044\n",
       "2   ../test/fixtures/kun03.txt       0.135497       0.112243    2.601100\n",
       "3   ../test/fixtures/kun04.txt       0.012469       0.006759    0.052444\n",
       "4   ../test/fixtures/kun05.txt       0.046045       0.107471    0.052078\n",
       "5   ../test/fixtures/kun06.txt       0.003820       0.002675    0.031005\n",
       "6   ../test/fixtures/kun07.txt       0.004820       0.010776    0.019723\n",
       "7   ../test/fixtures/kun08.txt       0.099850       0.116484    2.742440\n",
       "8   ../test/fixtures/kun09.txt       0.064895       0.074875    0.379592\n",
       "9   ../test/fixtures/kun10.txt       2.103640       4.702110   14.022900\n",
       "10  ../test/fixtures/kun11.txt      40.914500     160.478000  124.001000\n",
       "11  ../test/fixtures/kun12.txt       2.147550       7.347330   20.010500"
      ]
     },
     "execution_count": 9,
     "metadata": {},
     "output_type": "execute_result"
    }
   ],
   "source": [
    "cmp01"
   ]
  },
  {
   "cell_type": "code",
   "execution_count": 13,
   "metadata": {},
   "outputs": [
    {
     "data": {
      "image/png": "[encoded data removed]",
      "text/plain": [
       "<matplotlib.figure.Figure at 0x10be80550>"
      ]
     },
     "metadata": {},
     "output_type": "display_data"
    }
   ],
   "source": [
    "ax = cmp01.plot(kind='bar', color=['#F2B880','#C98686', '#966B9D'])\n",
    "ax.set_yscale('log', nonposy='clip')"
   ]
  }
 ],
 "metadata": {
  "kernelspec": {
   "display_name": "Python 3",
   "language": "python",
   "name": "python3"
  },
  "language_info": {
   "codemirror_mode": {
    "name": "ipython",
    "version": 3
   },
   "file_extension": ".py",
   "mimetype": "text/x-python",
   "name": "python",
   "nbconvert_exporter": "python",
   "pygments_lexer": "ipython3",
   "version": "3.6.4"
  }
 },
 "nbformat": 4,
 "nbformat_minor": 2
}
