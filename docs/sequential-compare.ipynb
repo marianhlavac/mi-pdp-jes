{
 "cells": [
  {
   "cell_type": "code",
   "execution_count": null,
   "metadata": {},
   "outputs": [],
   "source": [
    "import pandas as pd\n",
    "import numpy as np\n",
    "import matplotlib.pyplot as plt\n",
    "import matplotlib\n",
    "\n",
    "# Konfigurace vizualizace dat\n",
    "%matplotlib inline\n",
    "matplotlib.rcParams['figure.figsize'] = (15.0, 5.0)\n",
    "matplotlib.style.use('ggplot')\n",
    "pd.options.display.max_rows = 15"
   ]
  },
  {
   "cell_type": "code",
   "execution_count": null,
   "metadata": {},
   "outputs": [
    {
     "name": "stdout",
     "output_type": "stream",
     "text": [
      "Compiling...\n",
      "Calculating sequential pass...\n",
      "Calculating file 2/7\r"
     ]
    }
   ],
   "source": [
    "from IPython.display import clear_output\n",
    "dataset = \"../test/fixtures/kun{01,03,04,05,08,10,12}.txt\"\n",
    "print('Compiling...')\n",
    "!cd ..; make dev > /dev/null 2> /dev/null\n",
    "print('Calculating sequential pass...')\n",
    "!../bin/pdpjes-seq {dataset} > /tmp/pdpjes-results-seq.csv\n",
    "print('Calculating parallel pass...')\n",
    "!../bin/pdpjes {dataset} > /tmp/pdpjes-results-parallel.csv\n",
    "print('Done.')"
   ]
  },
  {
   "cell_type": "code",
   "execution_count": null,
   "metadata": {},
   "outputs": [],
   "source": [
    "parallel = pd.read_csv('/tmp/pdpjes-results-parallel.csv')\n",
    "sequential = pd.read_csv('/tmp/pdpjes-results-seq.csv')\n",
    "\n",
    "elapsed = pd.DataFrame({\n",
    "    '0 Test File': sequential['filename'],\n",
    "    '1 Parallel': parallel['elapsed'],\n",
    "    '2 Sequential': sequential['elapsed'],\n",
    "    '3 Sequential vs Parallel': sequential['elapsed'] - parallel['elapsed']\n",
    "})\n",
    "\n",
    "elapsed"
   ]
  },
  {
   "cell_type": "code",
   "execution_count": null,
   "metadata": {},
   "outputs": [],
   "source": [
    "comparison = pd.DataFrame({\n",
    "    'Sequential Time': sequential['elapsed'],\n",
    "    'Parallel Time': parallel['elapsed']\n",
    "})\n",
    "\n",
    "ax = comparison.plot(kind='bar', color=['#96A13A','#575C55'])\n",
    "ax.set_yscale('log', nonposy='clip')"
   ]
  },
  {
   "cell_type": "code",
   "execution_count": null,
   "metadata": {},
   "outputs": [],
   "source": [
    "iterations = pd.DataFrame({\n",
    "    '0 Test File': sequential['filename'],\n",
    "    '1 Parallel Scheme': parallel['iterations'],\n",
    "    '2 Sequential Scheme': sequential['iterations'],\n",
    "    '3 Sequential vs Parallel': sequential['iterations'] - parallel['iterations']\n",
    "})\n",
    "\n",
    "iterations"
   ]
  },
  {
   "cell_type": "code",
   "execution_count": null,
   "metadata": {},
   "outputs": [],
   "source": [
    "!rm /tmp/pdpjes*"
   ]
  }
 ],
 "metadata": {
  "kernelspec": {
   "display_name": "Python 3",
   "language": "python",
   "name": "python3"
  },
  "language_info": {
   "codemirror_mode": {
    "name": "ipython",
    "version": 3
   },
   "file_extension": ".py",
   "mimetype": "text/x-python",
   "name": "python",
   "nbconvert_exporter": "python",
   "pygments_lexer": "ipython3",
   "version": "3.6.4"
  }
 },
 "nbformat": 4,
 "nbformat_minor": 2
}
