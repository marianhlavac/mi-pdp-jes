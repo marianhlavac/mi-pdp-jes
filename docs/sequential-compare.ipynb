{
 "cells": [
  {
   "cell_type": "code",
   "execution_count": 68,
   "metadata": {},
   "outputs": [],
   "source": [
    "import pandas as pd\n",
    "import numpy as np\n",
    "import matplotlib.pyplot as plt\n",
    "import matplotlib\n",
    "\n",
    "# Konfigurace vizualizace dat\n",
    "%matplotlib inline\n",
    "matplotlib.rcParams['figure.figsize'] = (15.0, 5.0)\n",
    "matplotlib.style.use('ggplot')\n",
    "pd.options.display.max_rows = 15"
   ]
  },
  {
   "cell_type": "code",
   "execution_count": 69,
   "metadata": {},
   "outputs": [
    {
     "name": "stdout",
     "output_type": "stream",
     "text": [
      "Compiling...\n",
      "Calculating sequential pass...\n",
      "Calculating file 7/7\n",
      "Calculating parallel pass...\n",
      "-!- OpenMP ready. 8 CPUs available, 8 threads available on 0 available devices.\n",
      "Calculating file 7/7\n",
      "Done.\n"
     ]
    }
   ],
   "source": [
    "from IPython.display import clear_output\n",
    "dataset = \"../test/fixtures/kun{01,03,04,05,08,10,12}.txt\"\n",
    "print('Compiling...')\n",
    "!cd ..; make dev > /dev/null 2> /dev/null\n",
    "print('Calculating sequential pass...')\n",
    "!../bin/pdpjes-seq {dataset} > /tmp/pdpjes-results-seq.csv\n",
    "print('Calculating parallel pass...')\n",
    "!../bin/pdpjes {dataset} > /tmp/pdpjes-results-parallel.csv\n",
    "print('Done.')"
   ]
  },
  {
   "cell_type": "code",
   "execution_count": 70,
   "metadata": {},
   "outputs": [
    {
     "data": {
      "text/html": [
       "<div>\n",
       "<style>\n",
       "    .dataframe thead tr:only-child th {\n",
       "        text-align: right;\n",
       "    }\n",
       "\n",
       "    .dataframe thead th {\n",
       "        text-align: left;\n",
       "    }\n",
       "\n",
       "    .dataframe tbody tr th {\n",
       "        vertical-align: top;\n",
       "    }\n",
       "</style>\n",
       "<table border=\"1\" class=\"dataframe\">\n",
       "  <thead>\n",
       "    <tr style=\"text-align: right;\">\n",
       "      <th></th>\n",
       "      <th>0 Test File</th>\n",
       "      <th>1 Parallel</th>\n",
       "      <th>2 Sequential</th>\n",
       "      <th>3 Sequential vs Parallel</th>\n",
       "    </tr>\n",
       "  </thead>\n",
       "  <tbody>\n",
       "    <tr>\n",
       "      <th>0</th>\n",
       "      <td>../test/fixtures/kun01.txt</td>\n",
       "      <td>0.011028</td>\n",
       "      <td>0.026367</td>\n",
       "      <td>0.015339</td>\n",
       "    </tr>\n",
       "    <tr>\n",
       "      <th>1</th>\n",
       "      <td>../test/fixtures/kun03.txt</td>\n",
       "      <td>0.117410</td>\n",
       "      <td>2.529960</td>\n",
       "      <td>2.412550</td>\n",
       "    </tr>\n",
       "    <tr>\n",
       "      <th>2</th>\n",
       "      <td>../test/fixtures/kun04.txt</td>\n",
       "      <td>0.103983</td>\n",
       "      <td>0.051041</td>\n",
       "      <td>-0.052942</td>\n",
       "    </tr>\n",
       "    <tr>\n",
       "      <th>3</th>\n",
       "      <td>../test/fixtures/kun05.txt</td>\n",
       "      <td>0.108807</td>\n",
       "      <td>0.051538</td>\n",
       "      <td>-0.057269</td>\n",
       "    </tr>\n",
       "    <tr>\n",
       "      <th>4</th>\n",
       "      <td>../test/fixtures/kun08.txt</td>\n",
       "      <td>0.117922</td>\n",
       "      <td>2.626500</td>\n",
       "      <td>2.508578</td>\n",
       "    </tr>\n",
       "    <tr>\n",
       "      <th>5</th>\n",
       "      <td>../test/fixtures/kun10.txt</td>\n",
       "      <td>3.652720</td>\n",
       "      <td>14.535000</td>\n",
       "      <td>10.882280</td>\n",
       "    </tr>\n",
       "    <tr>\n",
       "      <th>6</th>\n",
       "      <td>../test/fixtures/kun12.txt</td>\n",
       "      <td>6.237090</td>\n",
       "      <td>21.780600</td>\n",
       "      <td>15.543510</td>\n",
       "    </tr>\n",
       "  </tbody>\n",
       "</table>\n",
       "</div>"
      ],
      "text/plain": [
       "                  0 Test File  1 Parallel  2 Sequential  \\\n",
       "0  ../test/fixtures/kun01.txt    0.011028      0.026367   \n",
       "1  ../test/fixtures/kun03.txt    0.117410      2.529960   \n",
       "2  ../test/fixtures/kun04.txt    0.103983      0.051041   \n",
       "3  ../test/fixtures/kun05.txt    0.108807      0.051538   \n",
       "4  ../test/fixtures/kun08.txt    0.117922      2.626500   \n",
       "5  ../test/fixtures/kun10.txt    3.652720     14.535000   \n",
       "6  ../test/fixtures/kun12.txt    6.237090     21.780600   \n",
       "\n",
       "   3 Sequential vs Parallel  \n",
       "0                  0.015339  \n",
       "1                  2.412550  \n",
       "2                 -0.052942  \n",
       "3                 -0.057269  \n",
       "4                  2.508578  \n",
       "5                 10.882280  \n",
       "6                 15.543510  "
      ]
     },
     "execution_count": 70,
     "metadata": {},
     "output_type": "execute_result"
    }
   ],
   "source": [
    "parallel = pd.read_csv('/tmp/pdpjes-results-parallel.csv')\n",
    "sequential = pd.read_csv('/tmp/pdpjes-results-seq.csv')\n",
    "\n",
    "elapsed = pd.DataFrame({\n",
    "    '0 Test File': sequential['filename'],\n",
    "    '1 Parallel': parallel['elapsed'],\n",
    "    '2 Sequential': sequential['elapsed'],\n",
    "    '3 Sequential vs Parallel': sequential['elapsed'] - parallel['elapsed']\n",
    "})\n",
    "\n",
    "elapsed"
   ]
  },
  {
   "cell_type": "code",
   "execution_count": 71,
   "metadata": {},
   "outputs": [
    {
     "data": {
      "image/png": "[encoded data removed]",
      "text/plain": [
       "<matplotlib.figure.Figure at 0x1125e6c88>"
      ]
     },
     "metadata": {},
     "output_type": "display_data"
    }
   ],
   "source": [
    "comparison = pd.DataFrame({\n",
    "    'Sequential Time': sequential['elapsed'],\n",
    "    'Parallel Time': parallel['elapsed']\n",
    "})\n",
    "\n",
    "ax = comparison.plot(kind='bar', color=['#96A13A','#575C55'])\n",
    "ax.set_yscale('log', nonposy='clip')"
   ]
  },
  {
   "cell_type": "code",
   "execution_count": 72,
   "metadata": {},
   "outputs": [
    {
     "data": {
      "text/html": [
       "<div>\n",
       "<style>\n",
       "    .dataframe thead tr:only-child th {\n",
       "        text-align: right;\n",
       "    }\n",
       "\n",
       "    .dataframe thead th {\n",
       "        text-align: left;\n",
       "    }\n",
       "\n",
       "    .dataframe tbody tr th {\n",
       "        vertical-align: top;\n",
       "    }\n",
       "</style>\n",
       "<table border=\"1\" class=\"dataframe\">\n",
       "  <thead>\n",
       "    <tr style=\"text-align: right;\">\n",
       "      <th></th>\n",
       "      <th>0 Test File</th>\n",
       "      <th>1 Parallel Scheme</th>\n",
       "      <th>2 Sequential Scheme</th>\n",
       "      <th>3 Sequential vs Parallel</th>\n",
       "    </tr>\n",
       "  </thead>\n",
       "  <tbody>\n",
       "    <tr>\n",
       "      <th>0</th>\n",
       "      <td>../test/fixtures/kun01.txt</td>\n",
       "      <td>42601</td>\n",
       "      <td>30606</td>\n",
       "      <td>-11995</td>\n",
       "    </tr>\n",
       "    <tr>\n",
       "      <th>1</th>\n",
       "      <td>../test/fixtures/kun03.txt</td>\n",
       "      <td>507030</td>\n",
       "      <td>2984057</td>\n",
       "      <td>2477027</td>\n",
       "    </tr>\n",
       "    <tr>\n",
       "      <th>2</th>\n",
       "      <td>../test/fixtures/kun04.txt</td>\n",
       "      <td>455536</td>\n",
       "      <td>59563</td>\n",
       "      <td>-395973</td>\n",
       "    </tr>\n",
       "    <tr>\n",
       "      <th>3</th>\n",
       "      <td>../test/fixtures/kun05.txt</td>\n",
       "      <td>474790</td>\n",
       "      <td>59563</td>\n",
       "      <td>-415227</td>\n",
       "    </tr>\n",
       "    <tr>\n",
       "      <th>4</th>\n",
       "      <td>../test/fixtures/kun08.txt</td>\n",
       "      <td>513173</td>\n",
       "      <td>2943943</td>\n",
       "      <td>2430770</td>\n",
       "    </tr>\n",
       "    <tr>\n",
       "      <th>5</th>\n",
       "      <td>../test/fixtures/kun10.txt</td>\n",
       "      <td>13701618</td>\n",
       "      <td>15544085</td>\n",
       "      <td>1842467</td>\n",
       "    </tr>\n",
       "    <tr>\n",
       "      <th>6</th>\n",
       "      <td>../test/fixtures/kun12.txt</td>\n",
       "      <td>17083813</td>\n",
       "      <td>21814977</td>\n",
       "      <td>4731164</td>\n",
       "    </tr>\n",
       "  </tbody>\n",
       "</table>\n",
       "</div>"
      ],
      "text/plain": [
       "                  0 Test File  1 Parallel Scheme  2 Sequential Scheme  \\\n",
       "0  ../test/fixtures/kun01.txt              42601                30606   \n",
       "1  ../test/fixtures/kun03.txt             507030              2984057   \n",
       "2  ../test/fixtures/kun04.txt             455536                59563   \n",
       "3  ../test/fixtures/kun05.txt             474790                59563   \n",
       "4  ../test/fixtures/kun08.txt             513173              2943943   \n",
       "5  ../test/fixtures/kun10.txt           13701618             15544085   \n",
       "6  ../test/fixtures/kun12.txt           17083813             21814977   \n",
       "\n",
       "   3 Sequential vs Parallel  \n",
       "0                    -11995  \n",
       "1                   2477027  \n",
       "2                   -395973  \n",
       "3                   -415227  \n",
       "4                   2430770  \n",
       "5                   1842467  \n",
       "6                   4731164  "
      ]
     },
     "execution_count": 72,
     "metadata": {},
     "output_type": "execute_result"
    }
   ],
   "source": [
    "iterations = pd.DataFrame({\n",
    "    '0 Test File': sequential['filename'],\n",
    "    '1 Parallel Scheme': parallel['iterations'],\n",
    "    '2 Sequential Scheme': sequential['iterations'],\n",
    "    '3 Sequential vs Parallel': sequential['iterations'] - parallel['iterations']\n",
    "})\n",
    "\n",
    "iterations"
   ]
  },
  {
   "cell_type": "code",
   "execution_count": 73,
   "metadata": {},
   "outputs": [],
   "source": [
    "!rm /tmp/pdpjes*"
   ]
  }
 ],
 "metadata": {
  "kernelspec": {
   "display_name": "Python 3",
   "language": "python",
   "name": "python3"
  },
  "language_info": {
   "codemirror_mode": {
    "name": "ipython",
    "version": 3
   },
   "file_extension": ".py",
   "mimetype": "text/x-python",
   "name": "python",
   "nbconvert_exporter": "python",
   "pygments_lexer": "ipython3",
   "version": "3.6.4"
  }
 },
 "nbformat": 4,
 "nbformat_minor": 2
}
